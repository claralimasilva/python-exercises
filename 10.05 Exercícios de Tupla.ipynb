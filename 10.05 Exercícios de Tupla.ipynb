{
 "cells": [
  {
   "cell_type": "markdown",
   "metadata": {},
   "source": [
    "# Exercícios\n",
    "\n",
    "São exercícios bem parecidos com os que fizemos com listas. Mas na tupla, podemos não só trabalhar com índices, mas fazer o \"unpacking\" das tuplas, o que pode facilitar nossos códigos.\n",
    "\n",
    "## 1. Análise de Vendas\n",
    "\n",
    "Nesse exercício vamos fazer uma \"análise simples\" de atingimento de Meta.\n",
    "\n",
    "Temos uma lista com os vendedores e os valores de vendas e queremos identificar (printar) quais os vendedores que bateram a meta e qual foi o valor que eles venderam."
   ]
  },
  {
   "cell_type": "code",
   "execution_count": 2,
   "metadata": {},
   "outputs": [
    {
     "name": "stdout",
     "output_type": "stream",
     "text": [
      "João bateu a meta e vendeu 15000 unidades!\n",
      "Julia bateu a meta e vendeu 27000 unidades!\n",
      "Ana bateu a meta e vendeu 10300 unidades!\n",
      "João bateu a meta com 15000 unidades vendidas.\n",
      "Julia bateu a meta com 27000 unidades vendidas.\n",
      "Ana bateu a meta com 10300 unidades vendidas.\n"
     ]
    }
   ],
   "source": [
    "meta = 10000\n",
    "vendas = [\n",
    "    ('João', 15000),\n",
    "    ('Julia', 27000),\n",
    "    ('Marcus', 9900),\n",
    "    ('Maria', 3750),\n",
    "    ('Ana', 10300),\n",
    "    ('Alon', 7870),\n",
    "]\n",
    "\n",
    "#forma mais compacta\n",
    "for vendedor, qtde in vendas:\n",
    "    if qtde >= meta:\n",
    "        print('{} bateu a meta e vendeu {} unidades!'.format(vendedor, qtde))\n",
    "\n",
    "#2 forma\n",
    "for item in vendas:\n",
    "    vendedor, qtde = item\n",
    "    if qtde >= meta:\n",
    "        print('{} bateu a meta com {} unidades vendidas.'.format(vendedor, qtde))"
   ]
  },
  {
   "cell_type": "markdown",
   "metadata": {},
   "source": [
    "## 2. Comparação com Ano Anterior\n",
    "\n",
    "Digamos que você está analisando as vendas de produtos de um ecommerce e quer identificar quais produtos tiveram no ano de 2020 mais vendas do que no ano de 2019, para reportar isso para a diretoria.\n",
    "\n",
    "Sua resposta pode ser um print de cada produto, qual foi a venda de 2019, a venda de 2020 e o % de crescimento de 2020 para 2019.\n",
    "\n",
    "Lembrando, para calcular o % de crescimento de um produto de um ano para o outro, podemos fazer: (vendas_produto2020/vendas_produto2019 - 1)\n",
    "\n",
    "A lógica da tupla é: (produto, vendas2019, vendas2020)"
   ]
  },
  {
   "cell_type": "code",
   "execution_count": 18,
   "metadata": {},
   "outputs": [
    {
     "name": "stdout",
     "output_type": "stream",
     "text": [
      "O produto iphone vendeu 558,147 em 2019, 951,642 em 2020 e teve um crescimento de 71%.\n",
      "O produto galaxy vendeu 712,350 em 2019, 244,295 em 2020 e teve um prejuízo de 66%.\n",
      "O produto ipad vendeu 573,823 em 2019, 26,964 em 2020 e teve um prejuízo de 95%.\n",
      "O produto tv vendeu 405,252 em 2019, 787,604 em 2020 e teve um crescimento de 94%.\n",
      "O produto máquina de café vendeu 718,654 em 2019, 867,660 em 2020 e teve um crescimento de 21%.\n",
      "O produto kindle vendeu 531,580 em 2019, 78,830 em 2020 e teve um prejuízo de 85%.\n",
      "O produto geladeira vendeu 973,139 em 2019, 710,331 em 2020 e teve um prejuízo de 27%.\n",
      "O produto adega vendeu 892,292 em 2019, 646,016 em 2020 e teve um prejuízo de 28%.\n",
      "O produto notebook dell vendeu 422,760 em 2019, 694,913 em 2020 e teve um crescimento de 64%.\n",
      "O produto notebook hp vendeu 154,753 em 2019, 539,704 em 2020 e teve um crescimento de 249%.\n",
      "O produto notebook asus vendeu 887,061 em 2019, 324,831 em 2020 e teve um prejuízo de 63%.\n",
      "O produto microsoft surface vendeu 438,508 em 2019, 667,179 em 2020 e teve um crescimento de 52%.\n",
      "O produto webcam vendeu 237,467 em 2019, 295,633 em 2020 e teve um crescimento de 24%.\n",
      "O produto caixa de som vendeu 489,705 em 2019, 725,316 em 2020 e teve um crescimento de 48%.\n",
      "O produto microfone vendeu 328,311 em 2019, 644,622 em 2020 e teve um crescimento de 96%.\n",
      "O produto câmera canon vendeu 591,120 em 2019, 994,303 em 2020 e teve um crescimento de 68%.\n"
     ]
    }
   ],
   "source": [
    "vendas_produtos = [('iphone', 558147, 951642), ('galaxy', 712350, 244295), ('ipad', 573823, 26964), ('tv', 405252, 787604), ('máquina de café', 718654, 867660), ('kindle', 531580, 78830), ('geladeira', 973139, 710331), ('adega', 892292, 646016), ('notebook dell', 422760, 694913), ('notebook hp', 154753, 539704), ('notebook asus', 887061, 324831), ('microsoft surface', 438508, 667179), ('webcam', 237467, 295633), ('caixa de som', 489705, 725316), ('microfone', 328311, 644622), ('câmera canon', 591120, 994303)]\n",
    "\n",
    "#seu código aqui\n",
    "for item in vendas_produtos:\n",
    "    produto, vendas2019, vendas2020 = item\n",
    "    percentual = vendas2020 / vendas2019 - 1\n",
    "    if vendas2020 > vendas2019:\n",
    "        print('O produto {} vendeu {:,} em 2019, {:,} em 2020 e teve um crescimento de {:.0%}.'.format(produto, vendas2019, vendas2020, percentual))\n",
    "    else:\n",
    "        print('O produto {} vendeu {:,} em 2019, {:,} em 2020 e teve um prejuízo de {:.0%}.'.format(produto, vendas2019, vendas2020, abs(percentual)))"
   ]
  }
 ],
 "metadata": {
  "kernelspec": {
   "display_name": "Python 3.10.6 64-bit (windows store)",
   "language": "python",
   "name": "python3"
  },
  "language_info": {
   "codemirror_mode": {
    "name": "ipython",
    "version": 3
   },
   "file_extension": ".py",
   "mimetype": "text/x-python",
   "name": "python",
   "nbconvert_exporter": "python",
   "pygments_lexer": "ipython3",
   "version": "3.10.6"
  },
  "vscode": {
   "interpreter": {
    "hash": "4ce58cf7f5ac4b070fdd4e4963bfc408bf842afc9c0b01e0bdefd6cdec1e24e3"
   }
  }
 },
 "nbformat": 4,
 "nbformat_minor": 4
}
