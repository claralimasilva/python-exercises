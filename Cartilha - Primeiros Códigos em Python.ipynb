{
 "cells": [
  {
   "cell_type": "markdown",
   "metadata": {},
   "source": [
    "# Cartilha para Consulta - 1ºs Códigos em Python\n",
    "\n",
    "Essa cartilha é para revisão e consulta dor primeiros códigos que aprendemos. Na prática você vai acabar naturalmente decorando esses códigos a medida que formos usando mais no curso, mas essa cartilha pode te ajudar sempre que precisar."
   ]
  },
  {
   "cell_type": "markdown",
   "metadata": {},
   "source": [
    "### print(texto) -> Para \"imprimir\" (exibir) um texto ou uma variável"
   ]
  },
  {
   "cell_type": "code",
   "execution_count": 2,
   "metadata": {},
   "outputs": [
    {
     "name": "stdout",
     "output_type": "stream",
     "text": [
      "O faturamento da loja foi de R$1.000\n"
     ]
    }
   ],
   "source": [
    "print('O faturamento da loja foi de R$1.000')"
   ]
  },
  {
   "cell_type": "markdown",
   "metadata": {},
   "source": [
    "### Textos (strings) são sempre entre aspas"
   ]
  },
  {
   "cell_type": "raw",
   "metadata": {},
   "source": [
    "'lira@gmail.com' -> é uma string\n",
    "lira@gmail.com -> vai dar erro porque o Python acha que isso é uma variável (vamos ver como funcionam mais a frente)"
   ]
  },
  {
   "cell_type": "markdown",
   "metadata": {},
   "source": [
    "### Operações Mateméticas no Python:\n",
    "\n",
    "1. Adição -> +\n",
    "2. Subtração -> -\n",
    "3. Divisão -> /\n",
    "4. Multiplicação -> *\n",
    "5. Mod (resto da divisão) -> %"
   ]
  },
  {
   "cell_type": "code",
   "execution_count": 4,
   "metadata": {},
   "outputs": [
    {
     "name": "stdout",
     "output_type": "stream",
     "text": [
      "8\n",
      "2\n",
      "1.6666666666666667\n",
      "15\n",
      "2\n"
     ]
    }
   ],
   "source": [
    "#adição\n",
    "print(3 + 5)\n",
    "\n",
    "#subtração\n",
    "print(5 - 3)\n",
    "\n",
    "#divisão\n",
    "print(5 / 3)\n",
    "\n",
    "#multiplicação\n",
    "print(5 * 3)\n",
    "\n",
    "#mod (resto da divisão de 5 por 3)\n",
    "print(5 % 3)"
   ]
  },
  {
   "cell_type": "markdown",
   "metadata": {},
   "source": [
    "### Operações Básicas com String\n",
    "\n",
    "1. Concatenar -> +\n",
    "2. Verificar se um texto está contido dentro do outro -> in"
   ]
  },
  {
   "cell_type": "code",
   "execution_count": 6,
   "metadata": {},
   "outputs": [
    {
     "name": "stdout",
     "output_type": "stream",
     "text": [
      "O faturamento da loja foi 1000\n",
      "True\n"
     ]
    }
   ],
   "source": [
    "#Concatenar\n",
    "print('O faturamento da loja foi ' + '1000')\n",
    "\n",
    "#Verificar se um texto está dentro do outro\n",
    "print('@' in 'lira@gmail.com')"
   ]
  },
  {
   "cell_type": "markdown",
   "metadata": {},
   "source": [
    "### Variável\n",
    "\n",
    "variavel = valor"
   ]
  },
  {
   "cell_type": "code",
   "execution_count": 8,
   "metadata": {},
   "outputs": [
    {
     "name": "stdout",
     "output_type": "stream",
     "text": [
      "1500\n",
      "700\n"
     ]
    }
   ],
   "source": [
    "faturamento = 1500\n",
    "custo = 800\n",
    "lucro = faturamento - custo \n",
    "print(faturamento)\n",
    "print(lucro)"
   ]
  },
  {
   "cell_type": "markdown",
   "metadata": {},
   "source": [
    "### Pegar informações do Usuário\n",
    "\n",
    "variavel = input('Texto para o Usuário')"
   ]
  },
  {
   "cell_type": "code",
   "execution_count": 10,
   "metadata": {},
   "outputs": [
    {
     "name": "stdout",
     "output_type": "stream",
     "text": [
      "Digite seu cpf (apenas números, sem pontos e traços)15288699725\n",
      "O cpf do cliente é 15288699725\n"
     ]
    }
   ],
   "source": [
    "#para cadastrar um cliente\n",
    "cpf = input('Digite seu cpf (apenas números, sem pontos e traços)')\n",
    "print('O cpf do cliente é ' + cpf)"
   ]
  }
 ],
 "metadata": {
  "kernelspec": {
   "display_name": "Python 3",
   "language": "python",
   "name": "python3"
  },
  "language_info": {
   "codemirror_mode": {
    "name": "ipython",
    "version": 3
   },
   "file_extension": ".py",
   "mimetype": "text/x-python",
   "name": "python",
   "nbconvert_exporter": "python",
   "pygments_lexer": "ipython3",
   "version": "3.8.3"
  }
 },
 "nbformat": 4,
 "nbformat_minor": 4
}
