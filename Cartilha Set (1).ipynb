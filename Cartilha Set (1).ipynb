{
 "cells": [
  {
   "cell_type": "markdown",
   "metadata": {},
   "source": [
    "# Métodos de Sets\n",
    "\n",
    "### Esses são os métodos mais usados de set\n",
    "\n",
    "- add -> adiciona um item no set"
   ]
  },
  {
   "cell_type": "code",
   "execution_count": 1,
   "metadata": {},
   "outputs": [
    {
     "name": "stdout",
     "output_type": "stream",
     "text": [
      "{'macbook', 'iphone', 'airpod', 'ipad'}\n"
     ]
    }
   ],
   "source": [
    "meu_set = {'iphone', 'macbook', 'ipad'}\n",
    "meu_set.add('airpod')\n",
    "print(meu_set)"
   ]
  },
  {
   "cell_type": "markdown",
   "metadata": {},
   "source": [
    "- remove -> retira um item de um set"
   ]
  },
  {
   "cell_type": "code",
   "execution_count": 2,
   "metadata": {},
   "outputs": [
    {
     "name": "stdout",
     "output_type": "stream",
     "text": [
      "{'macbook', 'ipad'}\n"
     ]
    }
   ],
   "source": [
    "meu_set = {'iphone', 'macbook', 'ipad'}\n",
    "meu_set.remove('iphone')\n",
    "print(meu_set)"
   ]
  },
  {
   "cell_type": "markdown",
   "metadata": {},
   "source": [
    "- clear -> retira todos os itens de um set"
   ]
  },
  {
   "cell_type": "code",
   "execution_count": 3,
   "metadata": {},
   "outputs": [
    {
     "name": "stdout",
     "output_type": "stream",
     "text": [
      "set()\n"
     ]
    }
   ],
   "source": [
    "meu_set = {'iphone', 'macbook', 'ipad'}\n",
    "meu_set.clear()\n",
    "print(meu_set)"
   ]
  },
  {
   "cell_type": "markdown",
   "metadata": {},
   "source": [
    "- union -> junta as informações de 2 sets. Se houver algum valor duplicado, ele constará apenas 1 vez no set final"
   ]
  },
  {
   "cell_type": "code",
   "execution_count": 5,
   "metadata": {},
   "outputs": [
    {
     "name": "stdout",
     "output_type": "stream",
     "text": [
      "{'airpod', 'ipod', 'macbook', 'iphone', 'ipad', 'apple watch'}\n"
     ]
    }
   ],
   "source": [
    "produtos = {'iphone', 'macbook', 'ipad'}\n",
    "lancamentos = {'airpod', 'apple watch', 'ipod', 'ipad'}\n",
    "todos_produtos = produtos.union(lancamentos)\n",
    "print(todos_produtos)"
   ]
  },
  {
   "cell_type": "markdown",
   "metadata": {},
   "source": [
    "- intersection -> pega apenas as informações que existem nos 2 sets ao mesmo tempo"
   ]
  },
  {
   "cell_type": "code",
   "execution_count": 7,
   "metadata": {},
   "outputs": [
    {
     "name": "stdout",
     "output_type": "stream",
     "text": [
      "{'ipad'}\n"
     ]
    }
   ],
   "source": [
    "produtos = {'iphone', 'macbook', 'ipad'}\n",
    "lancamentos = {'airpod', 'apple watch', 'ipod', 'ipad'}\n",
    "intersecao = produtos.intersection(lancamentos)\n",
    "print(intersecao)"
   ]
  },
  {
   "cell_type": "markdown",
   "metadata": {},
   "source": [
    "- difference -> retorna todas as informações de um set que não fazem parte de outro set"
   ]
  },
  {
   "cell_type": "code",
   "execution_count": 8,
   "metadata": {},
   "outputs": [
    {
     "name": "stdout",
     "output_type": "stream",
     "text": [
      "{'macbook', 'iphone'}\n"
     ]
    }
   ],
   "source": [
    "produtos = {'iphone', 'macbook', 'ipad'}\n",
    "lancamentos = {'airpod', 'apple watch', 'ipod', 'ipad'}\n",
    "produtos_nao_lancamentos = produtos.difference(lancamentos)\n",
    "print(produtos_nao_lancamentos) #repare que ipad foi retirado do resultado porque ele estava contido no set de lançamentos"
   ]
  }
 ],
 "metadata": {
  "kernelspec": {
   "display_name": "Python 3",
   "language": "python",
   "name": "python3"
  },
  "language_info": {
   "codemirror_mode": {
    "name": "ipython",
    "version": 3
   },
   "file_extension": ".py",
   "mimetype": "text/x-python",
   "name": "python",
   "nbconvert_exporter": "python",
   "pygments_lexer": "ipython3",
   "version": "3.8.3"
  }
 },
 "nbformat": 4,
 "nbformat_minor": 4
}
