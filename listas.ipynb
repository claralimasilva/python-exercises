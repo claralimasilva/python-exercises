{
 "cells": [
  {
   "cell_type": "code",
   "execution_count": 3,
   "metadata": {},
   "outputs": [
    {
     "name": "stdout",
     "output_type": "stream",
     "text": [
      "['apple tv', 'mac', 'iphone x', 'ipad', 'apple watch', 'macbook', 'airpods']\n",
      "['apple tv', 'mac', 'iphone x', 'ipad', 'apple watch', 'macbook', 'airpods', 'iphone 11']\n",
      "iphonex não existe na lista de produtos\n",
      "['apple tv', 'mac', 'iphone x', 'ipad', 'apple watch', 'macbook', 'airpods', 'iphone 11']\n"
     ]
    }
   ],
   "source": [
    "produtos = ['apple tv', 'mac', 'iphone x', 'ipad', 'apple watch', 'macbook', 'airpods' ]\n",
    "print(produtos)\n",
    "#adicionar o iphone 11\n",
    "produtos.append('iphone 11')\n",
    "\n",
    "print(produtos)\n",
    "\n",
    "#remover o iphone x\n",
    "produto_remover = 'iphonex'\n",
    "\n",
    "if produto_remover in produtos:\n",
    "    produtos.remove('iphonex')\n",
    "else:\n",
    "    print('{} não existe na lista de produtos'.format(produto_remover))\n",
    "#outraforma q pode transformar em variavel\n",
    "## item_removido = produtos.pop(2)\n",
    "## print('Removemos o {} da lista'.format())\n",
    "print(produtos)"
   ]
  },
  {
   "cell_type": "code",
   "execution_count": null,
   "metadata": {},
   "outputs": [],
   "source": [
    "#substituir\n",
    "#produtos[2] = 'iphone 11' "
   ]
  },
  {
   "cell_type": "code",
   "execution_count": 5,
   "metadata": {},
   "outputs": [
    {
     "name": "stdout",
     "output_type": "stream",
     "text": [
      "['apple tv', 'mac', 'ipad', 'apple watch', 'macbook', 'airpods', 'iphone 11']\n"
     ]
    }
   ],
   "source": [
    "try:\n",
    "    produtos.remove('iphone x')\n",
    "    print(produtos)\n",
    "except:\n",
    "    print('iphonex não existe na lista de produtos')"
   ]
  }
 ],
 "metadata": {
  "kernelspec": {
   "display_name": "Python 3.10.6 64-bit (windows store)",
   "language": "python",
   "name": "python3"
  },
  "language_info": {
   "codemirror_mode": {
    "name": "ipython",
    "version": 3
   },
   "file_extension": ".py",
   "mimetype": "text/x-python",
   "name": "python",
   "nbconvert_exporter": "python",
   "pygments_lexer": "ipython3",
   "version": "3.10.6"
  },
  "orig_nbformat": 4,
  "vscode": {
   "interpreter": {
    "hash": "4ce58cf7f5ac4b070fdd4e4963bfc408bf842afc9c0b01e0bdefd6cdec1e24e3"
   }
  }
 },
 "nbformat": 4,
 "nbformat_minor": 2
}
