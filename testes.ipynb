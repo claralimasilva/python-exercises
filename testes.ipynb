{
 "cells": [
  {
   "cell_type": "code",
   "execution_count": 5,
   "metadata": {},
   "outputs": [
    {
     "name": "stdout",
     "output_type": "stream",
     "text": [
      "\n",
      "ITEM    Prod/Serv      QTD            Preço          Sub.Total      \n",
      "-----------------------------------------------------------------\n",
      "  1     TEclado         2               250.0           500.0       "
     ]
    }
   ],
   "source": [
    "recibo = list()\n",
    "prod_serv = dict()\n",
    "while True:\n",
    "  prod_serv.clear()\n",
    "  prod_serv['Prod/Serv']= str(input('Produto ou Serviço: '))\n",
    "  prod_serv['QTD']= int(input('Quantidade: '))\n",
    "  prod_serv['Preço']= float(input('Preço: '))\n",
    "  prod_serv['Sub.Total']= prod_serv['QTD'] * prod_serv['Preço']\n",
    "  recibo.append(prod_serv.copy())\n",
    "  cont = str(input('Acrescentar mais?[s/n]: ')).casefold()\n",
    "  if cont in 'n':\n",
    "    break\n",
    "print()\n",
    "print('ITEM    ', end='')\n",
    "for i in prod_serv.keys():\n",
    "  print(f'{i:<15}', end='')\n",
    "print()\n",
    "print('-' * 65)\n",
    "for k, v in enumerate(recibo):\n",
    "  print(f'{k+1:>3} ', end='')\n",
    "  for d in v.values():\n",
    "    print(f'    {str(d):<12}', end='')"
   ]
  }
 ],
 "metadata": {
  "kernelspec": {
   "display_name": "Python 3.10.6 64-bit (windows store)",
   "language": "python",
   "name": "python3"
  },
  "language_info": {
   "codemirror_mode": {
    "name": "ipython",
    "version": 3
   },
   "file_extension": ".py",
   "mimetype": "text/x-python",
   "name": "python",
   "nbconvert_exporter": "python",
   "pygments_lexer": "ipython3",
   "version": "3.10.6"
  },
  "orig_nbformat": 4,
  "vscode": {
   "interpreter": {
    "hash": "4ce58cf7f5ac4b070fdd4e4963bfc408bf842afc9c0b01e0bdefd6cdec1e24e3"
   }
  }
 },
 "nbformat": 4,
 "nbformat_minor": 2
}
