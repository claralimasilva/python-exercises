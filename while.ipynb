{
 "cells": [
  {
   "cell_type": "code",
   "execution_count": 1,
   "metadata": {},
   "outputs": [
    {
     "name": "stdout",
     "output_type": "stream",
     "text": [
      "Registro finalizado. As vendas cadastradas foram: ['arroz', 'feijão', 'macarrão'].\n"
     ]
    }
   ],
   "source": [
    "#while condicao:\n",
    "#    repete esse codigo\n",
    "\n",
    "venda = input('Registre um produto. Aperte Enter com a caixa vazia para encerrar.')\n",
    "vendas = []\n",
    "\n",
    "while venda != '':\n",
    "    vendas.append(venda)\n",
    "    venda = input('Registre um produto. Aperte Enter com a caixa vazia para encerrar.')\n",
    "\n",
    "\n",
    "print('Registro finalizado. As vendas cadastradas foram: {}.'.format(vendas))"
   ]
  },
  {
   "cell_type": "code",
   "execution_count": 3,
   "metadata": {},
   "outputs": [
    {
     "name": "stdout",
     "output_type": "stream",
     "text": [
      "Maria bateu a meta. Vendas: 941.\n",
      "José bateu a meta. Vendas: 852.\n",
      "Antônio bateu a meta. Vendas: 783.\n",
      "João bateu a meta. Vendas: 87.\n"
     ]
    }
   ],
   "source": [
    "### CUIDADO COM O WHILE - LOOP INFINITO\n",
    "vendas = [941, 852, 783, 87, 47, 7]\n",
    "vendedores = ['Maria', 'José', 'Antônio', 'João', 'Francisco', 'Ana']\n",
    "meta = 50\n",
    "\n",
    "i = 0\n",
    "\n",
    "while vendas[i] > meta:\n",
    "    print('{} bateu a meta. Vendas: {}.'.format(vendedores[i], vendas[i]))\n",
    "    i += 1\n"
   ]
  },
  {
   "cell_type": "code",
   "execution_count": null,
   "metadata": {},
   "outputs": [],
   "source": []
  }
 ],
 "metadata": {
  "kernelspec": {
   "display_name": "Python 3.10.2 64-bit",
   "language": "python",
   "name": "python3"
  },
  "language_info": {
   "codemirror_mode": {
    "name": "ipython",
    "version": 3
   },
   "file_extension": ".py",
   "mimetype": "text/x-python",
   "name": "python",
   "nbconvert_exporter": "python",
   "pygments_lexer": "ipython3",
   "version": "3.10.2"
  },
  "orig_nbformat": 4,
  "vscode": {
   "interpreter": {
    "hash": "0cd0845fee576f9e614fce5662c06fb611932ea48d64b0e2b86d3b2a7d881cf5"
   }
  }
 },
 "nbformat": 4,
 "nbformat_minor": 2
}
