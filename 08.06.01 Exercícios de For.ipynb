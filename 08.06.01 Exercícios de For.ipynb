{
 "cells": [
  {
   "cell_type": "markdown",
   "metadata": {},
   "source": [
    "# Exercícios\n",
    "\n",
    "## 1. Calculando % de uma lista\n",
    "\n",
    "Faremos algo parecido com \"filtrar\" uma lista. Mais pra frente no curso aprenderemos outras formas de fazer isso, mas com o nosso conhecimentoa atual já conseguimos resolver o desafio.\n",
    "\n",
    "Digamos que a gente tenha uma lista de vendedores e ao invés de saber todos os vendedores que bateram a meta, eu quero conseguir calcular o % de vendedores que bateram a meta. Ou seja, se temos 10 vendedores e 3 bateram a meta, temos 30% dos vendedores que bateram a meta."
   ]
  },
  {
   "cell_type": "code",
   "execution_count": 19,
   "metadata": {},
   "outputs": [
    {
     "name": "stdout",
     "output_type": "stream",
     "text": [
      "[['João', 15000], ['Julia', 27000], ['Ana', 10300]]\n",
      "[['Marcus', 9900], ['Maria', 3750], ['Alon', 7870]]\n",
      "50% dos vendedores bateram a meta.\n"
     ]
    }
   ],
   "source": [
    "meta = 10000\n",
    "vendas = [\n",
    "    ['João', 15000],\n",
    "    ['Julia', 27000],\n",
    "    ['Marcus', 9900],\n",
    "    ['Maria', 3750],\n",
    "    ['Ana', 10300],\n",
    "    ['Alon', 7870],\n",
    "]\n",
    "#seu código aqui"
   ]
  },
  {
   "cell_type": "code",
   "execution_count": 21,
   "metadata": {},
   "outputs": [
    {
     "name": "stdout",
     "output_type": "stream",
     "text": [
      "[['João', 15000], ['Julia', 27000], ['Ana', 10300]]\n",
      "[['Marcus', 9900], ['Maria', 3750], ['Alon', 7870]]\n",
      "50% dos vendedores bateram a meta.\n"
     ]
    }
   ],
   "source": [
    "#1 metodo - criando lista auxiliar\n",
    "vendedores_meta = []\n",
    "vendedores_nao_meta = [] #não é necessário\n",
    "\n",
    "for vendedor in vendas:\n",
    "    if vendedor[1] < meta:\n",
    "        vendedores_nao_meta.append(vendedor) #não é necessário\n",
    "    else:\n",
    "        vendedores_meta.append(vendedor)\n",
    "print(vendedores_meta)\n",
    "print(vendedores_nao_meta) #não é necessario\n",
    "print('{:.0%} dos vendedores bateram a meta.'.format(len(vendedores_meta) / len(vendas)))"
   ]
  },
  {
   "cell_type": "code",
   "execution_count": 20,
   "metadata": {},
   "outputs": [
    {
     "name": "stdout",
     "output_type": "stream",
     "text": [
      "50.0% dos vendedores bateram a meta\n"
     ]
    }
   ],
   "source": [
    "#2 metodo - calculo diretamente na lista\n",
    "qtde_vendedores_acima = 0\n",
    "\n",
    "for venda in vendas:\n",
    "    if venda[1] >= meta:\n",
    "        qtde_vendedores_acima += 1\n",
    "\n",
    "print('{:.1%} dos vendedores bateram a meta'.format(qtde_vendedores_acima / len(vendas)))"
   ]
  },
  {
   "cell_type": "markdown",
   "metadata": {},
   "source": [
    "- Vamos resolver de 2 formas:\n",
    "    1. Criando uma lista auxiliar apenas com os vendedores que bateram a meta\n",
    "    2. Fazendo o cálculo diretamente na lista que já temos"
   ]
  },
  {
   "cell_type": "markdown",
   "metadata": {},
   "source": [
    "## Para treinar uma estrutura parecida, crie um código para responder: quem foi o vendedor que mais vendeu?"
   ]
  },
  {
   "cell_type": "code",
   "execution_count": 22,
   "metadata": {},
   "outputs": [
    {
     "name": "stdout",
     "output_type": "stream",
     "text": [
      "O melhor vendedor foi Julia com 27000 vendas.\n"
     ]
    }
   ],
   "source": [
    "#seu código aqui\n",
    "melhor_vendedor = ''\n",
    "maior_vendas = 0\n",
    "\n",
    "for venda in vendas:\n",
    "    if venda[1] > maior_vendas:\n",
    "        maior_vendas = venda[1]\n",
    "        melhor_vendedor = venda[0]\n",
    "\n",
    "print('O melhor vendedor foi {} com {} vendas.'.format(melhor_vendedor, maior_vendas))\n"
   ]
  }
 ],
 "metadata": {
  "kernelspec": {
   "display_name": "Python 3.10.6 64-bit (windows store)",
   "language": "python",
   "name": "python3"
  },
  "language_info": {
   "codemirror_mode": {
    "name": "ipython",
    "version": 3
   },
   "file_extension": ".py",
   "mimetype": "text/x-python",
   "name": "python",
   "nbconvert_exporter": "python",
   "pygments_lexer": "ipython3",
   "version": "3.10.6"
  },
  "vscode": {
   "interpreter": {
    "hash": "4ce58cf7f5ac4b070fdd4e4963bfc408bf842afc9c0b01e0bdefd6cdec1e24e3"
   }
  }
 },
 "nbformat": 4,
 "nbformat_minor": 4
}
