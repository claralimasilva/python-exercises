{
 "cells": [
  {
   "cell_type": "code",
   "execution_count": 9,
   "metadata": {},
   "outputs": [],
   "source": [
    "def calcular_imc():\n",
    "    altura = float(input('Digite a altura.'))\n",
    "    peso = int(input('Digite o peso.'))\n",
    "    imc = peso / altura**2\n",
    "    return imc"
   ]
  },
  {
   "cell_type": "code",
   "execution_count": 10,
   "metadata": {},
   "outputs": [
    {
     "name": "stdout",
     "output_type": "stream",
     "text": [
      "Sobrepeso\n",
      "Normal\n",
      "Sobrepeso\n"
     ]
    }
   ],
   "source": [
    "for i in range(3):\n",
    "    imc = calcular_imc()\n",
    "    if imc < 18:\n",
    "        print('Subnutrido')\n",
    "    elif 18 < imc < 25:\n",
    "        print('Normal')\n",
    "    else:\n",
    "        print('Sobrepeso')\n"
   ]
  }
 ],
 "metadata": {
  "kernelspec": {
   "display_name": "Python 3.10.6 64-bit (microsoft store)",
   "language": "python",
   "name": "python3"
  },
  "language_info": {
   "codemirror_mode": {
    "name": "ipython",
    "version": 3
   },
   "file_extension": ".py",
   "mimetype": "text/x-python",
   "name": "python",
   "nbconvert_exporter": "python",
   "pygments_lexer": "ipython3",
   "version": "3.10.6"
  },
  "orig_nbformat": 4,
  "vscode": {
   "interpreter": {
    "hash": "4ce58cf7f5ac4b070fdd4e4963bfc408bf842afc9c0b01e0bdefd6cdec1e24e3"
   }
  }
 },
 "nbformat": 4,
 "nbformat_minor": 2
}
