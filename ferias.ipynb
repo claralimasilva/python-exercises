{
 "cells": [
  {
   "cell_type": "code",
   "execution_count": 15,
   "metadata": {},
   "outputs": [
    {
     "name": "stdout",
     "output_type": "stream",
     "text": [
      "O que devemos fazer nas ferias é fazer um pequenique!\n"
     ]
    }
   ],
   "source": [
    "import random\n",
    "\n",
    "ferias = ['pescar', 'jogar', 'ir a praia', 'moscar', 'ir ao cinema', 'fazer um pequenique']\n",
    "print(f'O que devemos fazer nas ferias é {random.choice(ferias)}!')"
   ]
  }
 ],
 "metadata": {
  "kernelspec": {
   "display_name": "Python 3.10.5 64-bit (windows store)",
   "language": "python",
   "name": "python3"
  },
  "language_info": {
   "codemirror_mode": {
    "name": "ipython",
    "version": 3
   },
   "file_extension": ".py",
   "mimetype": "text/x-python",
   "name": "python",
   "nbconvert_exporter": "python",
   "pygments_lexer": "ipython3",
   "version": "3.10.6"
  },
  "orig_nbformat": 4,
  "vscode": {
   "interpreter": {
    "hash": "4ce58cf7f5ac4b070fdd4e4963bfc408bf842afc9c0b01e0bdefd6cdec1e24e3"
   }
  }
 },
 "nbformat": 4,
 "nbformat_minor": 2
}
